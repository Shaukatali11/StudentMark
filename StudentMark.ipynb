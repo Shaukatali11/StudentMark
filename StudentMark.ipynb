{
 "cells": [
  {
   "cell_type": "code",
   "execution_count": 1,
   "id": "f7ef762e",
   "metadata": {},
   "outputs": [],
   "source": [
    "import numpy as np\n",
    "import pandas as pd\n",
    "import matplotlib.pyplot as plt\n",
    "import seaborn as sns\n",
    "import math\n",
    "from sklearn.metrics import r2_score, mean_absolute_error"
   ]
  },
  {
   "cell_type": "code",
   "execution_count": 2,
   "id": "0208675f",
   "metadata": {},
   "outputs": [
    {
     "data": {
      "text/html": [
       "<div>\n",
       "<style scoped>\n",
       "    .dataframe tbody tr th:only-of-type {\n",
       "        vertical-align: middle;\n",
       "    }\n",
       "\n",
       "    .dataframe tbody tr th {\n",
       "        vertical-align: top;\n",
       "    }\n",
       "\n",
       "    .dataframe thead th {\n",
       "        text-align: right;\n",
       "    }\n",
       "</style>\n",
       "<table border=\"1\" class=\"dataframe\">\n",
       "  <thead>\n",
       "    <tr style=\"text-align: right;\">\n",
       "      <th></th>\n",
       "      <th>number_courses</th>\n",
       "      <th>time_study</th>\n",
       "      <th>Marks</th>\n",
       "    </tr>\n",
       "  </thead>\n",
       "  <tbody>\n",
       "    <tr>\n",
       "      <th>0</th>\n",
       "      <td>3</td>\n",
       "      <td>4.508</td>\n",
       "      <td>19.202</td>\n",
       "    </tr>\n",
       "    <tr>\n",
       "      <th>1</th>\n",
       "      <td>4</td>\n",
       "      <td>0.096</td>\n",
       "      <td>7.734</td>\n",
       "    </tr>\n",
       "    <tr>\n",
       "      <th>2</th>\n",
       "      <td>4</td>\n",
       "      <td>3.133</td>\n",
       "      <td>13.811</td>\n",
       "    </tr>\n",
       "    <tr>\n",
       "      <th>3</th>\n",
       "      <td>6</td>\n",
       "      <td>7.909</td>\n",
       "      <td>53.018</td>\n",
       "    </tr>\n",
       "    <tr>\n",
       "      <th>4</th>\n",
       "      <td>8</td>\n",
       "      <td>7.811</td>\n",
       "      <td>55.299</td>\n",
       "    </tr>\n",
       "    <tr>\n",
       "      <th>5</th>\n",
       "      <td>6</td>\n",
       "      <td>3.211</td>\n",
       "      <td>17.822</td>\n",
       "    </tr>\n",
       "    <tr>\n",
       "      <th>6</th>\n",
       "      <td>3</td>\n",
       "      <td>6.063</td>\n",
       "      <td>29.889</td>\n",
       "    </tr>\n",
       "    <tr>\n",
       "      <th>7</th>\n",
       "      <td>5</td>\n",
       "      <td>3.413</td>\n",
       "      <td>17.264</td>\n",
       "    </tr>\n",
       "    <tr>\n",
       "      <th>8</th>\n",
       "      <td>4</td>\n",
       "      <td>4.410</td>\n",
       "      <td>20.348</td>\n",
       "    </tr>\n",
       "    <tr>\n",
       "      <th>9</th>\n",
       "      <td>3</td>\n",
       "      <td>6.173</td>\n",
       "      <td>30.862</td>\n",
       "    </tr>\n",
       "  </tbody>\n",
       "</table>\n",
       "</div>"
      ],
      "text/plain": [
       "   number_courses  time_study   Marks\n",
       "0               3       4.508  19.202\n",
       "1               4       0.096   7.734\n",
       "2               4       3.133  13.811\n",
       "3               6       7.909  53.018\n",
       "4               8       7.811  55.299\n",
       "5               6       3.211  17.822\n",
       "6               3       6.063  29.889\n",
       "7               5       3.413  17.264\n",
       "8               4       4.410  20.348\n",
       "9               3       6.173  30.862"
      ]
     },
     "execution_count": 2,
     "metadata": {},
     "output_type": "execute_result"
    }
   ],
   "source": [
    "df = pd.read_csv('Student_Marks.csv')\n",
    "df[:10]"
   ]
  },
  {
   "cell_type": "code",
   "execution_count": 3,
   "id": "0cb6b9e2",
   "metadata": {},
   "outputs": [
    {
     "data": {
      "text/plain": [
       "number_courses    0\n",
       "time_study        0\n",
       "Marks             0\n",
       "dtype: int64"
      ]
     },
     "execution_count": 3,
     "metadata": {},
     "output_type": "execute_result"
    }
   ],
   "source": [
    "df.isnull().sum()"
   ]
  },
  {
   "cell_type": "code",
   "execution_count": 4,
   "id": "1b693a20",
   "metadata": {},
   "outputs": [
    {
     "data": {
      "text/html": [
       "<div>\n",
       "<style scoped>\n",
       "    .dataframe tbody tr th:only-of-type {\n",
       "        vertical-align: middle;\n",
       "    }\n",
       "\n",
       "    .dataframe tbody tr th {\n",
       "        vertical-align: top;\n",
       "    }\n",
       "\n",
       "    .dataframe thead th {\n",
       "        text-align: right;\n",
       "    }\n",
       "</style>\n",
       "<table border=\"1\" class=\"dataframe\">\n",
       "  <thead>\n",
       "    <tr style=\"text-align: right;\">\n",
       "      <th></th>\n",
       "      <th>number_courses</th>\n",
       "      <th>time_study</th>\n",
       "      <th>Marks</th>\n",
       "    </tr>\n",
       "  </thead>\n",
       "  <tbody>\n",
       "    <tr>\n",
       "      <th>count</th>\n",
       "      <td>100.000000</td>\n",
       "      <td>100.000000</td>\n",
       "      <td>100.000000</td>\n",
       "    </tr>\n",
       "    <tr>\n",
       "      <th>mean</th>\n",
       "      <td>5.290000</td>\n",
       "      <td>4.077140</td>\n",
       "      <td>24.417690</td>\n",
       "    </tr>\n",
       "    <tr>\n",
       "      <th>std</th>\n",
       "      <td>1.799523</td>\n",
       "      <td>2.372914</td>\n",
       "      <td>14.326199</td>\n",
       "    </tr>\n",
       "    <tr>\n",
       "      <th>min</th>\n",
       "      <td>3.000000</td>\n",
       "      <td>0.096000</td>\n",
       "      <td>5.609000</td>\n",
       "    </tr>\n",
       "    <tr>\n",
       "      <th>25%</th>\n",
       "      <td>4.000000</td>\n",
       "      <td>2.058500</td>\n",
       "      <td>12.633000</td>\n",
       "    </tr>\n",
       "    <tr>\n",
       "      <th>50%</th>\n",
       "      <td>5.000000</td>\n",
       "      <td>4.022000</td>\n",
       "      <td>20.059500</td>\n",
       "    </tr>\n",
       "    <tr>\n",
       "      <th>75%</th>\n",
       "      <td>7.000000</td>\n",
       "      <td>6.179250</td>\n",
       "      <td>36.676250</td>\n",
       "    </tr>\n",
       "    <tr>\n",
       "      <th>max</th>\n",
       "      <td>8.000000</td>\n",
       "      <td>7.957000</td>\n",
       "      <td>55.299000</td>\n",
       "    </tr>\n",
       "  </tbody>\n",
       "</table>\n",
       "</div>"
      ],
      "text/plain": [
       "       number_courses  time_study       Marks\n",
       "count      100.000000  100.000000  100.000000\n",
       "mean         5.290000    4.077140   24.417690\n",
       "std          1.799523    2.372914   14.326199\n",
       "min          3.000000    0.096000    5.609000\n",
       "25%          4.000000    2.058500   12.633000\n",
       "50%          5.000000    4.022000   20.059500\n",
       "75%          7.000000    6.179250   36.676250\n",
       "max          8.000000    7.957000   55.299000"
      ]
     },
     "execution_count": 4,
     "metadata": {},
     "output_type": "execute_result"
    }
   ],
   "source": [
    "df.describe()"
   ]
  },
  {
   "cell_type": "code",
   "execution_count": 5,
   "id": "42a93119",
   "metadata": {},
   "outputs": [
    {
     "data": {
      "image/png": "[encoded data removed]",
      "text/plain": [
       "<Figure size 432x288 with 1 Axes>"
      ]
     },
     "metadata": {
      "needs_background": "light"
     },
     "output_type": "display_data"
    }
   ],
   "source": [
    "df.plot.box()\n",
    "plt.title('Box and Whiskers')\n",
    "plt.show()"
   ]
  },
  {
   "cell_type": "code",
   "execution_count": 6,
   "id": "c2edb92c",
   "metadata": {},
   "outputs": [
    {
     "data": {
      "image/png": "[encoded data removed]",
      "text/plain": [
       "<Figure size 432x288 with 1 Axes>"
      ]
     },
     "metadata": {
      "needs_background": "light"
     },
     "output_type": "display_data"
    }
   ],
   "source": [
    "df.plot.density()\n",
    "plt.show()"
   ]
  },
  {
   "cell_type": "code",
   "execution_count": 7,
   "id": "c767b140",
   "metadata": {},
   "outputs": [],
   "source": [
    "X_train = np.c_[df[['number_courses', 'time_study']][:75]]\n",
    "X_test = np.c_[df[['number_courses', 'time_study']][75:]]\n",
    "y_train = df['Marks'][:75]\n",
    "y_test = df['Marks'][75:]"
   ]
  },
  {
   "cell_type": "code",
   "execution_count": 8,
   "id": "be0f0dae",
   "metadata": {},
   "outputs": [
    {
     "data": {
      "text/plain": [
       "((75, 2), (75,), (25, 2), (25,))"
      ]
     },
     "execution_count": 8,
     "metadata": {},
     "output_type": "execute_result"
    }
   ],
   "source": [
    "X_train.shape, y_train.shape, X_test.shape, y_test.shape"
   ]
  },
  {
   "cell_type": "code",
   "execution_count": 9,
   "id": "806c72b5",
   "metadata": {},
   "outputs": [
    {
     "name": "stdout",
     "output_type": "stream",
     "text": [
      "Peak to Peak Obervation On Train:  [5.    7.813]\n",
      "Peak to Peak Obervation On Target:  49.114\n"
     ]
    }
   ],
   "source": [
    "print('Peak to Peak Obervation On Train: ', np.ptp(X_train, axis=0))\n",
    "print('Peak to Peak Obervation On Target: ', np.ptp(y_train, axis=0))"
   ]
  },
  {
   "cell_type": "code",
   "execution_count": 10,
   "id": "f6d8e3c9",
   "metadata": {},
   "outputs": [
    {
     "data": {
      "image/png": "[encoded data removed]",
      "text/plain": [
       "<Figure size 720x432 with 2 Axes>"
      ]
     },
     "metadata": {
      "needs_background": "light"
     },
     "output_type": "display_data"
    }
   ],
   "source": [
    "fig, ax = plt.subplots(1,2,figsize=(10,6))\n",
    "\n",
    "ax[0].scatter(X_train[:,0], y_train, color='g')\n",
    "ax[0].set_xlabel('Number of Courses')\n",
    "ax[0].set_ylabel('Marks')\n",
    "\n",
    "ax[1].scatter(X_train[:,1], y_train, color='b')\n",
    "ax[1].set_xlabel('Time Study Per Day')\n",
    "plt.show()"
   ]
  },
  {
   "cell_type": "markdown",
   "id": "e161d09d",
   "metadata": {},
   "source": [
    "# Mean Squared Error or Cost Function\n"
   ]
  },
  {
   "cell_type": "code",
   "execution_count": 11,
   "id": "c8fc07c3",
   "metadata": {},
   "outputs": [],
   "source": [
    "def compute_cost(X, y, w, b):\n",
    "    m,n = X.shape\n",
    "    total_cost = 0\n",
    "    cost = 0\n",
    "    for i in range(m):\n",
    "        f_wb = np.dot(X[i], w) + b\n",
    "        cost += (f_wb - y[i])**2\n",
    "    total_cost = (1/(2*m)) * cost\n",
    "    \n",
    "    return total_cost"
   ]
  },
  {
   "cell_type": "code",
   "execution_count": 12,
   "id": "b86cba12",
   "metadata": {},
   "outputs": [
    {
     "name": "stdout",
     "output_type": "stream",
     "text": [
      "Cost at Initial Zeros:  384.67291692666686\n"
     ]
    }
   ],
   "source": [
    "w_init = np.zeros(X_train.shape[1])\n",
    "b_init = 0\n",
    "\n",
    "print('Cost at Initial Zeros: ', compute_cost(X_train, y_train, w_init, b_init))"
   ]
  },
  {
   "cell_type": "markdown",
   "id": "78d5d694",
   "metadata": {},
   "source": [
    "# Gradients - Derivative of Cost Function\n"
   ]
  },
  {
   "cell_type": "code",
   "execution_count": 13,
   "id": "e995555e",
   "metadata": {},
   "outputs": [],
   "source": [
    "def compute_gradient(X, y, w, b):\n",
    "    m,n = X.shape\n",
    "    \n",
    "    dj_dw = np.zeros((n,))\n",
    "    dj_db = 0\n",
    "    \n",
    "    for i in range(m):\n",
    "        f_wb = np.dot(X[i], w) + b\n",
    "        error = f_wb - y[i]\n",
    "        dj_db += error\n",
    "        for j in range(n):\n",
    "            dj_dw[j] += error * X[i,j]\n",
    "    dj_dw = (1/m) * dj_dw\n",
    "    dj_db = (1/m) * dj_db\n",
    "    \n",
    "    return dj_db, dj_dw"
   ]
  },
  {
   "cell_type": "code",
   "execution_count": 14,
   "id": "030f37d5",
   "metadata": {},
   "outputs": [],
   "source": [
    "def gradient_descent(X, y, w_in, b_in, alpha, num_iters, cost_function, gradient_function):\n",
    "    m,n = X.shape\n",
    "    \n",
    "    w = w_in\n",
    "    b = b_in\n",
    "    J_history = []\n",
    "    \n",
    "    for i in range(num_iters):\n",
    "        dj_db, dj_dw = gradient_function(X, y, w, b)\n",
    "        \n",
    "        w = w - alpha * dj_dw\n",
    "        b = b - alpha * dj_db\n",
    "        \n",
    "        if i<100000:\n",
    "            J_history.append( cost_function(X, y, w, b))\n",
    "\n",
    "        if i% math.ceil(num_iters / 10) == 0:\n",
    "            print(f\"Iteration {i:4d}: Cost {J_history[-1]:8.2f}   \")\n",
    "            \n",
    "    return w, b, J_history"
   ]
  },
  {
   "cell_type": "code",
   "execution_count": 15,
   "id": "0cb32364",
   "metadata": {},
   "outputs": [
    {
     "name": "stdout",
     "output_type": "stream",
     "text": [
      "Mean Squared Error Over 2 times of all training exmaples\n",
      "Iteration    0: Cost   123.70   \n",
      "Iteration 1000: Cost     6.86   \n",
      "Iteration 2000: Cost     6.29   \n",
      "Iteration 3000: Cost     6.19   \n",
      "Iteration 4000: Cost     6.17   \n",
      "Iteration 5000: Cost     6.17   \n",
      "Iteration 6000: Cost     6.17   \n",
      "Iteration 7000: Cost     6.17   \n",
      "Iteration 8000: Cost     6.17   \n",
      "Iteration 9000: Cost     6.17   \n"
     ]
    }
   ],
   "source": [
    "initial_w = np.zeros((X_train.shape[1],))\n",
    "initial_b = 0\n",
    "num_iters = 10000\n",
    "alpha = 0.01\n",
    "\n",
    "print('Mean Squared Error Over 2 times of all training exmaples')\n",
    "w, b, J_history = gradient_descent(X_train, y_train, initial_w, initial_b, alpha, num_iters, compute_cost, compute_gradient)"
   ]
  },
  {
   "cell_type": "code",
   "execution_count": 16,
   "id": "32178470",
   "metadata": {},
   "outputs": [
    {
     "data": {
      "image/png": "[encoded data removed]",
      "text/plain": [
       "<Figure size 720x288 with 1 Axes>"
      ]
     },
     "metadata": {
      "needs_background": "light"
     },
     "output_type": "display_data"
    }
   ],
   "source": [
    "plt.figure(figsize=(10,4))\n",
    "plt.plot(range(num_iters), J_history)\n",
    "plt.title('Cost vs Iteration')\n",
    "\n",
    "plt.xlabel('Iterations')\n",
    "plt.ylabel('Cost (MSE)')\n",
    "plt.show()"
   ]
  },
  {
   "cell_type": "markdown",
   "id": "66731cd8",
   "metadata": {},
   "source": [
    "# Prediction on Train set by Optimized parameters w and b\n"
   ]
  },
  {
   "cell_type": "code",
   "execution_count": 17,
   "id": "7dc2b18d",
   "metadata": {},
   "outputs": [],
   "source": [
    "y_pred = np.zeros(y_train.shape)\n",
    "\n",
    "for i in range(len(y_train)):\n",
    "    y_pred[i] = np.dot(X_train[i], w) + b"
   ]
  },
  {
   "cell_type": "code",
   "execution_count": 18,
   "id": "a1c8ea91",
   "metadata": {},
   "outputs": [
    {
     "name": "stdout",
     "output_type": "stream",
     "text": [
      "93.81839773637823\n"
     ]
    }
   ],
   "source": [
    "print(r2_score(y_train,y_pred) * 100)"
   ]
  },
  {
   "cell_type": "code",
   "execution_count": 19,
   "id": "1d272911",
   "metadata": {},
   "outputs": [
    {
     "data": {
      "image/png": "[encoded data removed]",
      "text/plain": [
       "<Figure size 720x288 with 2 Axes>"
      ]
     },
     "metadata": {
      "needs_background": "light"
     },
     "output_type": "display_data"
    }
   ],
   "source": [
    "fig, ax = plt.subplots(1,2, figsize=(10,4))\n",
    "\n",
    "for i in range(len(ax)):\n",
    "    ax[i].scatter(X_train[:,i], y_train, label='actual')\n",
    "    ax[i].scatter(X_train[:,i], y_pred, color='orange', label='predict')\n",
    "    ax[i].set_xlabel(df.columns[i])\n",
    "    ax[i].set_ylabel('Marks')\n",
    "    ax[i].legend()\n",
    "    \n",
    "plt.show()"
   ]
  },
  {
   "cell_type": "code",
   "execution_count": 20,
   "id": "f325b276",
   "metadata": {},
   "outputs": [
    {
     "name": "stdout",
     "output_type": "stream",
     "text": [
      "Mean Squared Error over 2 times All training examples: 6.169440e+00\n",
      "Mean Aboslute Error:  3.019298789522319\n",
      "R2 Score on Train Set: 93.81839773637823\n"
     ]
    }
   ],
   "source": [
    "print(f'Mean Squared Error over 2 times All training examples: {compute_cost(X_train, y_train, w, b):e}')\n",
    "print('Mean Aboslute Error: ', mean_absolute_error(y_train, y_pred))\n",
    "print(f'R2 Score on Train Set: {r2_score(y_train, y_pred)*100:}')"
   ]
  },
  {
   "cell_type": "markdown",
   "id": "e86cb0b9",
   "metadata": {},
   "source": [
    "# Polynomial Regression on Train set\n"
   ]
  },
  {
   "cell_type": "code",
   "execution_count": 21,
   "id": "b75d0f82",
   "metadata": {},
   "outputs": [],
   "source": [
    "X_train = np.c_[X_train, X_train[:,1]**2]"
   ]
  },
  {
   "cell_type": "code",
   "execution_count": 22,
   "id": "0dac0430",
   "metadata": {},
   "outputs": [],
   "source": [
    "mu = np.mean(X_train, axis=0)\n",
    "sigma = np.std(X_train, axis=0)\n",
    "X_norm = (X_train - mu) / sigma"
   ]
  },
  {
   "cell_type": "code",
   "execution_count": 23,
   "id": "92470672",
   "metadata": {},
   "outputs": [
    {
     "data": {
      "text/plain": [
       "array([2.93848889, 3.36231321, 3.19483771])"
      ]
     },
     "execution_count": 23,
     "metadata": {},
     "output_type": "execute_result"
    }
   ],
   "source": [
    "np.ptp(X_norm,axis=0)\n"
   ]
  },
  {
   "cell_type": "code",
   "execution_count": 24,
   "id": "a7f39e29",
   "metadata": {},
   "outputs": [
    {
     "data": {
      "text/plain": [
       "(75, 3)"
      ]
     },
     "execution_count": 24,
     "metadata": {},
     "output_type": "execute_result"
    }
   ],
   "source": [
    "X_norm.shape\n"
   ]
  },
  {
   "cell_type": "code",
   "execution_count": 25,
   "id": "9deb99b4",
   "metadata": {},
   "outputs": [
    {
     "name": "stdout",
     "output_type": "stream",
     "text": [
      "Mean Squared Error over 2 time All training examples:\n",
      "Iteration    0: Cost   375.01   \n",
      "Iteration 1000: Cost     0.82   \n",
      "Iteration 2000: Cost     0.42   \n",
      "Iteration 3000: Cost     0.22   \n",
      "Iteration 4000: Cost     0.13   \n",
      "Iteration 5000: Cost     0.08   \n",
      "Iteration 6000: Cost     0.06   \n",
      "Iteration 7000: Cost     0.04   \n",
      "Iteration 8000: Cost     0.04   \n",
      "Iteration 9000: Cost     0.04   \n",
      "Previous Cost: 6\n"
     ]
    }
   ],
   "source": [
    "initial_w = np.zeros((X_norm.shape[1],))\n",
    "initial_b = 0\n",
    "num_iters = 10000\n",
    "alpha = 0.01\n",
    "\n",
    "print('Mean Squared Error over 2 time All training examples:')\n",
    "w, b, J_history = gradient_descent(X_norm, y_train, initial_w, initial_b, alpha, num_iters, compute_cost, compute_gradient)\n",
    "print('Previous Cost: 6')"
   ]
  },
  {
   "cell_type": "code",
   "execution_count": 26,
   "id": "4f843b06",
   "metadata": {},
   "outputs": [
    {
     "data": {
      "image/png": "[encoded data removed]",
      "text/plain": [
       "<Figure size 720x288 with 1 Axes>"
      ]
     },
     "metadata": {
      "needs_background": "light"
     },
     "output_type": "display_data"
    }
   ],
   "source": [
    "plt.figure(figsize=(10,4))\n",
    "plt.plot(range(num_iters), J_history)\n",
    "plt.title('Cost vs Iteration')\n",
    "plt.xlabel('Iterations')\n",
    "plt.ylabel('Cost (MSE)')\n",
    "plt.show()"
   ]
  },
  {
   "cell_type": "markdown",
   "id": "f8101604",
   "metadata": {},
   "source": [
    "# Prediction on Standarized Train set\n"
   ]
  },
  {
   "cell_type": "code",
   "execution_count": 27,
   "id": "d7b694cc",
   "metadata": {},
   "outputs": [],
   "source": [
    "y_pred = np.zeros(y_train.shape)\n",
    "\n",
    "for i in range(len(y_train)):\n",
    "    y_pred[i] = np.dot(X_norm[i], w) + b"
   ]
  },
  {
   "cell_type": "code",
   "execution_count": 28,
   "id": "06808536",
   "metadata": {},
   "outputs": [
    {
     "data": {
      "image/png": "[encoded data removed]",
      "text/plain": [
       "<Figure size 720x288 with 2 Axes>"
      ]
     },
     "metadata": {
      "needs_background": "light"
     },
     "output_type": "display_data"
    }
   ],
   "source": [
    "fig, ax = plt.subplots(1,2, figsize=(10,4))\n",
    "\n",
    "for i in range(len(ax)):\n",
    "    ax[i].scatter(X_train[:,i], y_train, label='actual')\n",
    "    ax[i].scatter(X_train[:,i], y_pred, color='orange', label='predict')\n",
    "    ax[i].set_xlabel(df.columns[i])\n",
    "    ax[i].set_ylabel('Marks')\n",
    "    ax[i].legend()\n",
    "    \n",
    "plt.show()"
   ]
  },
  {
   "cell_type": "code",
   "execution_count": 29,
   "id": "fbd62c70",
   "metadata": {},
   "outputs": [
    {
     "name": "stdout",
     "output_type": "stream",
     "text": [
      "Mean Squared Error over 2 times All training examples: 0.0343763396436641\n",
      "Mean Aboslute Error:  0.2236615151562118\n",
      "R2 Score on Normalized Train Set: 99.96555588962327\n"
     ]
    }
   ],
   "source": [
    "print(f'Mean Squared Error over 2 times All training examples: {compute_cost(X_norm, y_train, w, b)}')\n",
    "print('Mean Aboslute Error: ', mean_absolute_error(y_train, y_pred))\n",
    "print(f'R2 Score on Normalized Train Set: {r2_score(y_train, y_pred)*100:}')"
   ]
  },
  {
   "cell_type": "code",
   "execution_count": null,
   "id": "b816aea2",
   "metadata": {},
   "outputs": [],
   "source": []
  }
 ],
 "metadata": {
  "kernelspec": {
   "display_name": "Python 3 (ipykernel)",
   "language": "python",
   "name": "python3"
  },
  "language_info": {
   "codemirror_mode": {
    "name": "ipython",
    "version": 3
   },
   "file_extension": ".py",
   "mimetype": "text/x-python",
   "name": "python",
   "nbconvert_exporter": "python",
   "pygments_lexer": "ipython3",
   "version": "3.9.7"
  }
 },
 "nbformat": 4,
 "nbformat_minor": 5
}
